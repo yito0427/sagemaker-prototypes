{
 "cells": [
  {
   "cell_type": "markdown",
   "metadata": {},
   "source": [
    "# visualize by tensorboard\n",
    "kernel:conda_tensorflow_p36"
   ]
  },
  {
   "cell_type": "code",
   "execution_count": 1,
   "metadata": {},
   "outputs": [],
   "source": [
    "### copy and paste your own Tensorboard log dir\n",
    "\n",
    "#logdir = \"s3://{your-bucket-name}/your_s3_prefix_for_tensorboard_logs/\"\n",
    "logdir = \"s3://work-sagemaker-debugger/your_s3_prefix_for_tensorboard_logs/\""
   ]
  },
  {
   "cell_type": "code",
   "execution_count": null,
   "metadata": {},
   "outputs": [
    {
     "name": "stdout",
     "output_type": "stream",
     "text": [
      "WARNING:tensorflow:From /home/ec2-user/anaconda3/envs/tensorflow_p36/lib/python3.6/site-packages/tensorflow_core/__init__.py:1467: The name tf.estimator.inputs is deprecated. Please use tf.compat.v1.estimator.inputs instead.\n",
      "\n",
      "TensorBoard 1.15.0 at http://ip-172-16-28-203:6006/ (Press CTRL+C to quit)\n"
     ]
    }
   ],
   "source": [
    "! S3_VERIFY_SSL=1 \\\n",
    "  S3_USE_HTTPS=1 \\\n",
    "  S3_REGION=us-east-2  \\\n",
    "  S3_ENDPOINT=s3.us-east-2.amazonaws.com \\\n",
    "  tensorboard --logdir {logdir}"
   ]
  },
  {
   "cell_type": "markdown",
   "metadata": {},
   "source": [
    "# access below:\n",
    "https://{InstanceName}.notebook.{Region}.sagemaker.aws/proxy/6006\n",
    "\n",
    "In my case:\n",
    "https://APAC-TFC-SagaMakerDebugger.notebook.us-east-2.sagemaker.aws/proxy/6006/"
   ]
  },
  {
   "cell_type": "markdown",
   "metadata": {},
   "source": [
    "# reference\n",
    "https://github.com/tensorflow/examples/blob/master/community/en/docs/deploy/s3.md"
   ]
  },
  {
   "cell_type": "code",
   "execution_count": null,
   "metadata": {},
   "outputs": [],
   "source": []
  }
 ],
 "metadata": {
  "kernelspec": {
   "display_name": "conda_tensorflow_p36",
   "language": "python",
   "name": "conda_tensorflow_p36"
  },
  "language_info": {
   "codemirror_mode": {
    "name": "ipython",
    "version": 3
   },
   "file_extension": ".py",
   "mimetype": "text/x-python",
   "name": "python",
   "nbconvert_exporter": "python",
   "pygments_lexer": "ipython3",
   "version": "3.6.5"
  }
 },
 "nbformat": 4,
 "nbformat_minor": 2
}
