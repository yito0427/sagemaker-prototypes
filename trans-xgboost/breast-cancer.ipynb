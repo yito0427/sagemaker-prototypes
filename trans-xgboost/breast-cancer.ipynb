{
 "metadata": {
  "language_info": {
   "codemirror_mode": {
    "name": "ipython",
    "version": 3
   },
   "file_extension": ".py",
   "mimetype": "text/x-python",
   "name": "python",
   "nbconvert_exporter": "python",
   "pygments_lexer": "ipython3",
   "version": "3.7.4-final"
  },
  "orig_nbformat": 2,
  "kernelspec": {
   "name": "Python 3.7.4 64-bit ('base': conda)",
   "display_name": "Python 3.7.4 64-bit ('base': conda)",
   "metadata": {
    "interpreter": {
     "hash": "dca0ade3e726a953b501b15e8e990130d2b7799f14cfd9f4271676035ebe5511"
    }
   }
  }
 },
 "nbformat": 4,
 "nbformat_minor": 2,
 "cells": [
  {
   "source": [
    "# SageMakerなし"
   ],
   "cell_type": "markdown",
   "metadata": {}
  },
  {
   "cell_type": "code",
   "execution_count": 1,
   "metadata": {
    "tags": []
   },
   "outputs": [
    {
     "output_type": "stream",
     "name": "stdout",
     "text": "[0]\ttrain-logloss:0.469816\teval-logloss:0.491902\n[1]\ttrain-logloss:0.335088\teval-logloss:0.373947\n[2]\ttrain-logloss:0.248404\teval-logloss:0.299573\n[3]\ttrain-logloss:0.18724\teval-logloss:0.253465\n[4]\ttrain-logloss:0.143523\teval-logloss:0.215149\n[5]\ttrain-logloss:0.113522\teval-logloss:0.198511\n[6]\ttrain-logloss:0.090464\teval-logloss:0.178499\n[7]\ttrain-logloss:0.073264\teval-logloss:0.170306\n[8]\ttrain-logloss:0.061057\teval-logloss:0.16866\n[9]\ttrain-logloss:0.051617\teval-logloss:0.161906\n[10]\ttrain-logloss:0.044053\teval-logloss:0.161001\n[11]\ttrain-logloss:0.038528\teval-logloss:0.15977\n[12]\ttrain-logloss:0.033695\teval-logloss:0.159252\n[13]\ttrain-logloss:0.029831\teval-logloss:0.160112\n[14]\ttrain-logloss:0.026945\teval-logloss:0.156529\n[15]\ttrain-logloss:0.024568\teval-logloss:0.160408\n[16]\ttrain-logloss:0.022406\teval-logloss:0.160971\n[17]\ttrain-logloss:0.020436\teval-logloss:0.16223\n[18]\ttrain-logloss:0.019104\teval-logloss:0.160814\n[19]\ttrain-logloss:0.017892\teval-logloss:0.155377\n[20]\ttrain-logloss:0.016702\teval-logloss:0.159682\n[21]\ttrain-logloss:0.016003\teval-logloss:0.155797\n[22]\ttrain-logloss:0.015195\teval-logloss:0.157076\n[23]\ttrain-logloss:0.014602\teval-logloss:0.156847\n[24]\ttrain-logloss:0.013934\teval-logloss:0.157174\n[25]\ttrain-logloss:0.013462\teval-logloss:0.157462\n[26]\ttrain-logloss:0.012992\teval-logloss:0.15865\n[27]\ttrain-logloss:0.012418\teval-logloss:0.156503\n[28]\ttrain-logloss:0.012035\teval-logloss:0.153504\n[29]\ttrain-logloss:0.011714\teval-logloss:0.154746\n[30]\ttrain-logloss:0.011386\teval-logloss:0.155918\n[31]\ttrain-logloss:0.010879\teval-logloss:0.157581\n[32]\ttrain-logloss:0.010567\teval-logloss:0.155485\n[33]\ttrain-logloss:0.010374\teval-logloss:0.154525\n[34]\ttrain-logloss:0.010133\teval-logloss:0.153994\n[35]\ttrain-logloss:0.009985\teval-logloss:0.155085\n[36]\ttrain-logloss:0.009858\teval-logloss:0.154603\n[37]\ttrain-logloss:0.009655\teval-logloss:0.152986\n[38]\ttrain-logloss:0.009534\teval-logloss:0.154061\n[39]\ttrain-logloss:0.009419\teval-logloss:0.154184\n[40]\ttrain-logloss:0.009307\teval-logloss:0.155788\n[41]\ttrain-logloss:0.009196\teval-logloss:0.155067\n[42]\ttrain-logloss:0.009097\teval-logloss:0.154602\n[43]\ttrain-logloss:0.008999\teval-logloss:0.1543\n[44]\ttrain-logloss:0.008907\teval-logloss:0.15383\n[45]\ttrain-logloss:0.008821\teval-logloss:0.154762\n[46]\ttrain-logloss:0.008739\teval-logloss:0.154267\n[47]\ttrain-logloss:0.008654\teval-logloss:0.154024\n[48]\ttrain-logloss:0.008576\teval-logloss:0.153397\n[49]\ttrain-logloss:0.008499\teval-logloss:0.152978\nAccuracy: 0.9385964912280702\n"
    }
   ],
   "source": [
    "#!/usr/bin/env python\n",
    "# -*- coding: utf-8 -*-\n",
    "\n",
    "import xgboost as xgb\n",
    "import numpy as np\n",
    "from sklearn import datasets\n",
    "from sklearn.model_selection import train_test_split\n",
    "from sklearn.metrics import accuracy_score\n",
    "\n",
    "\"\"\"XGBoost で二値分類するサンプルコード\"\"\"\n",
    "# 乳がんデータセットを読み込む\n",
    "dataset = datasets.load_breast_cancer()\n",
    "x, y = dataset.data, dataset.target\n",
    "# データセットを学習用とテスト用に分割する\n",
    "train_x, test_x, train_y, test_y = train_test_split(x, y,\n",
    "                                                    test_size=0.2,\n",
    "                                                    shuffle=True,\n",
    "                                                    random_state=42,\n",
    "                                                    stratify=y)\n",
    "# さらに学習用データを学習用とvalid用に分割する\n",
    "tr_x, va_x, tr_y, va_y = train_test_split(train_x, train_y,\n",
    "                                                    test_size=0.2,\n",
    "                                                    shuffle=True,\n",
    "                                                    random_state=42,\n",
    "                                                    stratify=train_y)\n",
    "# XGBoost が扱うデータセットの形式に直す\n",
    "dtrain = xgb.DMatrix(tr_x, label=tr_y)\n",
    "dvalid = xgb.DMatrix(va_x, label=va_y)\n",
    "dtest = xgb.DMatrix(test_x)\n",
    "# 学習用のパラメータ\n",
    "xgb_params = {\n",
    "    # 二値分類問題\n",
    "    'objective': 'binary:logistic',\n",
    "    # 評価指標\n",
    "    'eval_metric': 'logloss',\n",
    "}\n",
    "# モデルを学習する\n",
    "# バリデーションデータもモデルに渡し、学習の進行とともにスコアがどう変わるかモニタリングする\n",
    "# watchlistには学習データおよびバリデーションデータをセットする\n",
    "watchlist = [(dtrain, 'train'), (dvalid, 'eval')]\n",
    "model = xgb.train(xgb_params,\n",
    "                dtrain,\n",
    "                num_boost_round=50,  # 学習ラウンド数は適当\n",
    "                evals=watchlist\n",
    "                )\n",
    "# 予測：検証用データが各クラスに分類される確率を計算する\n",
    "pred_proba = model.predict(dtest)\n",
    "# しきい値 0.5 で 0, 1 に丸める\n",
    "pred = np.where(pred_proba > 0.5, 1, 0)\n",
    "# 精度 (Accuracy) を検証する\n",
    "acc = accuracy_score(test_y, pred)\n",
    "print('Accuracy:', acc)"
   ]
  },
  {
   "source": [],
   "cell_type": "markdown",
   "metadata": {}
  },
  {
   "source": [
    "# SageMakerでの実行"
   ],
   "cell_type": "markdown",
   "metadata": {}
  },
  {
   "cell_type": "code",
   "execution_count": 3,
   "metadata": {
    "tags": []
   },
   "outputs": [],
   "source": [
    "#!/usr/bin/env python\n",
    "# -*- coding: utf-8 -*-\n",
    "\n",
    "import xgboost as xgb\n",
    "import numpy as np\n",
    "from sklearn import datasets\n",
    "from sklearn.model_selection import train_test_split\n",
    "from sklearn.metrics import accuracy_score\n",
    "\n",
    "\"\"\"XGBoost で二値分類するサンプルコード\"\"\"\n",
    "# 乳がんデータセットを読み込む\n",
    "dataset = datasets.load_breast_cancer()\n",
    "x, y = dataset.data, dataset.target\n",
    "# データセットを学習用とテスト用に分割する\n",
    "train_x, test_x, train_y, test_y = train_test_split(x, y,\n",
    "                                                    test_size=0.2,\n",
    "                                                    shuffle=True,\n",
    "                                                    random_state=42,\n",
    "                                                    stratify=y)\n",
    "# さらに学習用データを学習用とvalid用に分割する\n",
    "tr_x, va_x, tr_y, va_y = train_test_split(train_x, train_y,\n",
    "                                                    test_size=0.2,\n",
    "                                                    shuffle=True,\n",
    "                                                    random_state=42,\n",
    "                                                    stratify=train_y)\n"
   ]
  },
  {
   "cell_type": "code",
   "execution_count": 5,
   "metadata": {},
   "outputs": [],
   "source": [
    "##### ここから異なる ####################################################\n",
    "import pandas as pd\n",
    "### 最初の列に目的変数を挿入\n",
    "tr = np.insert(tr_x, 0, tr_y, axis=1)\n",
    "va = np.insert(va_x, 0, va_y, axis=1)\n",
    "\n",
    "# ローカルにcsv作成(ヘッダなし)\n",
    "pd.DataFrame(tr).to_csv('train.csv', header=False, index=False)\n",
    "pd.DataFrame(va).to_csv('validation.csv', header=False, index=False)\n",
    "\n",
    "### S3にアップ\n",
    "import sagemaker\n",
    "from sagemaker import get_execution_role\n",
    "\n",
    "# default_bucket=None　を任意で指定することも可能\n",
    "# https://sagemaker.readthedocs.io/en/stable/session.html\n",
    "sagemaker_session = sagemaker.Session()\n",
    "\n",
    "# バケット: sagemaker-<region>-<アカウントID> に保存される。(上記で指定しなかったため)\n",
    "input_train = sagemaker_session.upload_data(path='train.csv', key_prefix='sagemaker/xgb-breast-cancer')\n",
    "input_validation = sagemaker_session.upload_data(path='validation.csv', key_prefix='sagemaker/xgb-breast-cancer')\n",
    "\n",
    "### content_typeを指定する\n",
    "from sagemaker.session import s3_input\n",
    "\n",
    "s3_input_train = s3_input(s3_data=input_train, content_type='text/csv')\n",
    "s3_input_validation = s3_input(s3_data=input_validation, content_type='text/csv')\n",
    "\n"
   ]
  },
  {
   "cell_type": "code",
   "execution_count": 6,
   "metadata": {},
   "outputs": [
    {
     "output_type": "execute_result",
     "data": {
      "text/plain": "&lt;sagemaker.session.Session at 0x12812aa50&gt;"
     },
     "metadata": {},
     "execution_count": 6
    }
   ],
   "source": [
    "sagemaker_session"
   ]
  },
  {
   "cell_type": "code",
   "execution_count": 8,
   "metadata": {
    "tags": []
   },
   "outputs": [
    {
     "output_type": "stream",
     "name": "stderr",
     "text": "WARNING:root:There is a more up to date SageMaker XGBoost image. To use the newer image, please set &#39;repo_version&#39;=&#39;1.0-1&#39;. For example:\n\tget_image_uri(region, &#39;xgboost&#39;, &#39;1.0-1&#39;).\nWARNING:sagemaker:Couldn&#39;t call &#39;get_role&#39; to get Role ARN from role name cli-user to get Role path.\n"
    },
    {
     "output_type": "error",
     "ename": "ValueError",
     "evalue": "The current AWS identity is not a role: arn:aws:iam::805433377179:user/cli-user, therefore it cannot be used as a SageMaker execution role",
     "traceback": [
      "\u001b[0;31m---------------------------------------------------------------------------\u001b[0m",
      "\u001b[0;31mValueError\u001b[0m                                Traceback (most recent call last)",
      "\u001b[0;32m&lt;ipython-input-8-af1f34974e30&gt;\u001b[0m in \u001b[0;36m&lt;module&gt;\u001b[0;34m\u001b[0m\n\u001b[1;32m      5\u001b[0m \u001b[0;34m\u001b[0m\u001b[0m\n\u001b[1;32m      6\u001b[0m \u001b[0;31m### estimatorの設定\u001b[0m\u001b[0;34m\u001b[0m\u001b[0;34m\u001b[0m\u001b[0;34m\u001b[0m\u001b[0m\n\u001b[0;32m----&gt; 7\u001b[0;31m \u001b[0mrole\u001b[0m \u001b[0;34m=\u001b[0m \u001b[0mget_execution_role\u001b[0m\u001b[0;34m(\u001b[0m\u001b[0;34m)\u001b[0m \u001b[0;31m# sagemaker ノートブックインスタンス、Studioからのみ有効\u001b[0m\u001b[0;34m\u001b[0m\u001b[0;34m\u001b[0m\u001b[0m\n\u001b[0m\u001b[1;32m      8\u001b[0m \u001b[0;34m\u001b[0m\u001b[0m\n\u001b[1;32m      9\u001b[0m \u001b[0msess\u001b[0m \u001b[0;34m=\u001b[0m \u001b[0msagemaker\u001b[0m\u001b[0;34m.\u001b[0m\u001b[0mSession\u001b[0m\u001b[0;34m(\u001b[0m\u001b[0;34m)\u001b[0m\u001b[0;34m\u001b[0m\u001b[0;34m\u001b[0m\u001b[0m\n",
      "\u001b[0;32m/opt/anaconda3/lib/python3.7/site-packages/sagemaker/session.py\u001b[0m in \u001b[0;36mget_execution_role\u001b[0;34m(sagemaker_session)\u001b[0m\n\u001b[1;32m   3322\u001b[0m         \u001b[0;34m&quot;SageMaker execution role&quot;\u001b[0m\u001b[0;34m\u001b[0m\u001b[0;34m\u001b[0m\u001b[0m\n\u001b[1;32m   3323\u001b[0m     )\n\u001b[0;32m-&gt; 3324\u001b[0;31m     \u001b[0;32mraise\u001b[0m \u001b[0mValueError\u001b[0m\u001b[0;34m(\u001b[0m\u001b[0mmessage\u001b[0m\u001b[0;34m.\u001b[0m\u001b[0mformat\u001b[0m\u001b[0;34m(\u001b[0m\u001b[0marn\u001b[0m\u001b[0;34m)\u001b[0m\u001b[0;34m)\u001b[0m\u001b[0;34m\u001b[0m\u001b[0;34m\u001b[0m\u001b[0m\n\u001b[0m\u001b[1;32m   3325\u001b[0m \u001b[0;34m\u001b[0m\u001b[0m\n\u001b[1;32m   3326\u001b[0m \u001b[0;34m\u001b[0m\u001b[0m\n",
      "\u001b[0;31mValueError\u001b[0m: The current AWS identity is not a role: arn:aws:iam::805433377179:user/cli-user, therefore it cannot be used as a SageMaker execution role"
     ]
    }
   ],
   "source": [
    "### SageMaker XGboostのコンテナパス取得\n",
    "import boto3\n",
    "from sagemaker.amazon.amazon_estimator import get_image_uri\n",
    "container = get_image_uri(boto3.Session().region_name, 'xgboost')\n",
    "\n",
    "### estimatorの設定\n",
    "role = get_execution_role() # sagemaker ノートブックインスタンス、Studioからのみ有効\n",
    "\n",
    "sess = sagemaker.Session()\n"
   ]
  },
  {
   "cell_type": "code",
   "execution_count": null,
   "metadata": {},
   "outputs": [],
   "source": [
    "xgb = sagemaker.estimator.Estimator(container,\n",
    "                                    role, \n",
    "                                    train_instance_count=1, \n",
    "                                    train_instance_type='ml.m4.xlarge',\n",
    "                                    sagemaker_session=sess)\n",
    "### ハイパーパラメータの設定\n",
    "### num_roundはここでしか宣言できない\n",
    "xgb.set_hyperparameters(\n",
    "    objective='binary:logistic',\n",
    "    eval_metric='logloss',\n",
    "    num_round=50\n",
    ")\n"
   ]
  },
  {
   "cell_type": "code",
   "execution_count": null,
   "metadata": {},
   "outputs": [],
   "source": []
  },
  {
   "cell_type": "code",
   "execution_count": null,
   "metadata": {},
   "outputs": [],
   "source": [
    "### トレーニングジョブの実行\n",
    "xgb.fit({'train': s3_input_train, 'validation': s3_input_validation})\n",
    "\n"
   ]
  },
  {
   "cell_type": "code",
   "execution_count": null,
   "metadata": {},
   "outputs": [],
   "source": [
    "### エンドポイントのデプロイ（予測を実施するサーバを作成）\n",
    "xgb_predictor = xgb.deploy(initial_instance_count = 1, instance_type = 'ml.m4.xlarge')\n",
    "\n",
    "from sagemaker.predictor import csv_serializer\n",
    "\n",
    "xgb_predictor.content_type = 'text/csv'\n",
    "xgb_predictor.serializer = csv_serializer\n",
    "xgb_predictor.deserializer = None\n",
    "\n",
    "### 予測の実行\n",
    "pred_proba_sagemaker = xgb_predictor.predict(test_x).decode('utf-8')\n",
    "\n",
    "### 整形\n",
    "pred_proba_sagemaker_arr = np.fromstring(pred_proba_sagemaker[0:], sep=',')\n",
    "\n",
    "##### ここまで。以後同じ ####################################################\n",
    "pred_sagemaker = np.where(pred_proba_sagemaker_arr > 0.5, 1, 0)\n",
    "\n",
    "# 精度 (Accuracy) を検証する\n",
    "acc_sagemaker = accuracy_score(test_y, pred_sagemaker)\n",
    "print('Accuracy:', acc_sagemaker)"
   ]
  },
  {
   "cell_type": "code",
   "execution_count": null,
   "metadata": {},
   "outputs": [],
   "source": []
  },
  {
   "cell_type": "code",
   "execution_count": null,
   "metadata": {},
   "outputs": [],
   "source": []
  },
  {
   "cell_type": "code",
   "execution_count": null,
   "metadata": {},
   "outputs": [],
   "source": []
  },
  {
   "cell_type": "code",
   "execution_count": null,
   "metadata": {},
   "outputs": [],
   "source": []
  },
  {
   "cell_type": "code",
   "execution_count": null,
   "metadata": {},
   "outputs": [],
   "source": []
  }
 ]
}